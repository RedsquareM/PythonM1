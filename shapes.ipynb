{
 "cells": [
  {
   "cell_type": "code",
   "execution_count": 2,
   "metadata": {},
   "outputs": [
    {
     "name": "stdout",
     "output_type": "stream",
     "text": [
      "Largest area: ('triangle', 5, 10)\n",
      "Smallest area: ('rectangle', 2, 5.2)\n"
     ]
    }
   ],
   "source": [
    "def area_triangle(base, height):\n",
    "    return 0.5*base*height\n",
    "\n",
    "def area_rectangle(length, width):\n",
    "    return length*width\n",
    "\n",
    "def area_parser(shape, length1, length2):\n",
    "    if shape == \"triangle\":\n",
    "        return area_triangle(length1, length2)\n",
    "    elif shape == \"rectangle\":\n",
    "        return area_rectangle(length1, length2)\n",
    "\n",
    "shape_list = [ ('triangle', 5, 10), ('rectangle', 2, 5.2), ('triangle', 3, 15.1)]\n",
    "out_list = []\n",
    "for shape in shape_list:\n",
    "    out_list.append(area_parser(shape[0], shape[1], shape[2]))\n",
    "\n",
    "\n",
    "largestArea = max(out_list)\n",
    "largesti = out_list.index(largestArea)\n",
    "smallestArea = min(out_list)\n",
    "smallesti = out_list.index(smallestArea)\n",
    "print(\"Largest area: \" + str(shape_list[largesti]))\n",
    "print(\"Smallest area: \" + str(shape_list[smallesti]))"
   ]
  },
  {
   "cell_type": "code",
   "execution_count": 3,
   "metadata": {},
   "outputs": [
    {
     "name": "stdout",
     "output_type": "stream",
     "text": [
      "1000\n"
     ]
    }
   ],
   "source": [
    "numbers = [100, 2, 300, 10, 11, 1000]\n",
    "max_numbers = max(numbers)\n",
    "print(max_numbers)"
   ]
  }
 ],
 "metadata": {
  "kernelspec": {
   "display_name": "Python 3.9.7 64-bit",
   "language": "python",
   "name": "python3"
  },
  "language_info": {
   "codemirror_mode": {
    "name": "ipython",
    "version": 3
   },
   "file_extension": ".py",
   "mimetype": "text/x-python",
   "name": "python",
   "nbconvert_exporter": "python",
   "pygments_lexer": "ipython3",
   "version": "3.9.7"
  },
  "orig_nbformat": 4,
  "vscode": {
   "interpreter": {
    "hash": "97e7738037ab5c68679b221168e1048d1981eac653725107d7abc5486ab9a185"
   }
  }
 },
 "nbformat": 4,
 "nbformat_minor": 2
}
