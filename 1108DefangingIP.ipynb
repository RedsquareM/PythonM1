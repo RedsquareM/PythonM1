{
 "cells": [
  {
   "cell_type": "code",
   "execution_count": 22,
   "metadata": {},
   "outputs": [
    {
     "name": "stdout",
     "output_type": "stream",
     "text": [
      "1[.]1[.]1[.]1\n",
      "255[.]100[.]50[.]0\n"
     ]
    }
   ],
   "source": [
    "##Given a valid (IPv4) IP address, return a defanged version of that IP address.\n",
    "#A defanged IP address replaces every period \".\" with \"[.]\".\n",
    "class Solution:\n",
    "    \n",
    "    def defangIPaddr(self, address: str) -> str:\n",
    "        #self.address = address\n",
    "        return address.replace(\".\",\"[.]\")\n",
    "\n",
    "a = Solution()\n",
    "print(a.defangIPaddr(\"1.1.1.1\"))\n",
    "print(a.defangIPaddr(\"255.100.50.0\"))\n"
   ]
  }
 ],
 "metadata": {
  "kernelspec": {
   "display_name": "Python 3.9.7 64-bit",
   "language": "python",
   "name": "python3"
  },
  "language_info": {
   "codemirror_mode": {
    "name": "ipython",
    "version": 3
   },
   "file_extension": ".py",
   "mimetype": "text/x-python",
   "name": "python",
   "nbconvert_exporter": "python",
   "pygments_lexer": "ipython3",
   "version": "3.9.7"
  },
  "orig_nbformat": 4,
  "vscode": {
   "interpreter": {
    "hash": "97e7738037ab5c68679b221168e1048d1981eac653725107d7abc5486ab9a185"
   }
  }
 },
 "nbformat": 4,
 "nbformat_minor": 2
}
