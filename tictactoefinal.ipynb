{
 "cells": [
  {
   "cell_type": "code",
   "execution_count": 2,
   "metadata": {},
   "outputs": [
    {
     "name": "stdout",
     "output_type": "stream",
     "text": [
      "A\n"
     ]
    }
   ],
   "source": [
    "moves = [[0,0],[1,1],[2,0], [0,1], [1,0]]\n",
    "\n",
    "\n",
    "def tictactoe(moves):\n",
    "        grid = [['','',''],['','',''],['','','']]\n",
    "        i = 0\n",
    "        for row,column in moves:\n",
    "            if i%2 == 0:\n",
    "                grid[row][column] = 'A'\n",
    "                i+=1\n",
    "            else:\n",
    "                grid[row][column] = 'B'\n",
    "                i+=1\n",
    "\n",
    "        #diagonals\n",
    "        if grid[0][0] == grid[1][1] == grid[2][2] and grid[0][0]!='':\n",
    "            return grid[0][0]\n",
    "        elif grid[0][2] == grid[1][1] == grid[2][0] and grid[0][2]!='':\n",
    "            return grid[0][2]        \n",
    "        #rows\n",
    "        elif grid[0][0] == grid[0][1] == grid[0][2] and grid[0][0]!='':\n",
    "            return grid[0][0]\n",
    "        elif grid[1][0] == grid[1][1] == grid[1][2] and grid[1][0]!='':\n",
    "            return grid[1][0]\n",
    "        elif grid[2][0] == grid[2][1] == grid[2][2] and grid[2][0]!='':\n",
    "            return grid[2][0]\n",
    "        #columns\n",
    "        elif grid[0][0] == grid[1][0] == grid[2][0] and grid[0][0]!='':\n",
    "            return grid[0][0]\n",
    "        elif grid[0][1] == grid[1][1] == grid[2][1] and grid[0][1]!='':\n",
    "            return grid[0][1]\n",
    "        elif grid[0][2] == grid[1][2] == grid[2][2] and grid[0][2]!='':\n",
    "            return grid[0][2]\n",
    "        \n",
    "        else:\n",
    "            for i in grid:\n",
    "                if len(moves) == 9 :\n",
    "                    return \"Draw\"\n",
    "            return \"Pending\"\n",
    "print(tictactoe(moves))"
   ]
  }
 ],
 "metadata": {
  "kernelspec": {
   "display_name": "Python 3.9.7 64-bit",
   "language": "python",
   "name": "python3"
  },
  "language_info": {
   "codemirror_mode": {
    "name": "ipython",
    "version": 3
   },
   "file_extension": ".py",
   "mimetype": "text/x-python",
   "name": "python",
   "nbconvert_exporter": "python",
   "pygments_lexer": "ipython3",
   "version": "3.9.7"
  },
  "orig_nbformat": 4,
  "vscode": {
   "interpreter": {
    "hash": "97e7738037ab5c68679b221168e1048d1981eac653725107d7abc5486ab9a185"
   }
  }
 },
 "nbformat": 4,
 "nbformat_minor": 2
}
